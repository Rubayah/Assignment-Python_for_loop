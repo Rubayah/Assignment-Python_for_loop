{
 "cells": [
  {
   "cell_type": "markdown",
   "id": "df40c589-448c-41b2-b6b0-172693c80d2f",
   "metadata": {},
   "source": [
    "1. Write a Python program to print the numbers from 1 to 10 using a `for` loop."
   ]
  },
  {
   "cell_type": "code",
   "execution_count": 1,
   "id": "ae4c6c0a-6f13-40e9-a9b0-f1e2009c01e6",
   "metadata": {},
   "outputs": [
    {
     "name": "stdout",
     "output_type": "stream",
     "text": [
      "1\n",
      "2\n",
      "3\n",
      "4\n",
      "5\n",
      "6\n",
      "7\n",
      "8\n",
      "9\n",
      "10\n"
     ]
    }
   ],
   "source": [
    "# using a for loop for iteration\n",
    "for num in range(1,11):\n",
    "    print(num)"
   ]
  },
  {
   "cell_type": "markdown",
   "id": "95ceb171-1bff-4117-b122-846624075d82",
   "metadata": {},
   "source": [
    "2. Create a program that calculates the sum of all numbers in a list using a `for` loop."
   ]
  },
  {
   "cell_type": "code",
   "execution_count": 12,
   "id": "ac184a20-3349-457c-bfe7-fbff905be9b6",
   "metadata": {},
   "outputs": [
    {
     "name": "stdout",
     "output_type": "stream",
     "text": [
      "Sum of the numbers are :150\n"
     ]
    }
   ],
   "source": [
    "# define a list of numbers\n",
    "numbers=[10,20,30,40,50]\n",
    "\n",
    "#Initialize a variable to store sum\n",
    "sum=0\n",
    "\n",
    "# find the sum \n",
    "for num in numbers:\n",
    "    sum+=num\n",
    "    \n",
    "# print the sum\n",
    "print(f\"Sum of the numbers in the list are :{sum}\")\n",
    "    "
   ]
  },
  {
   "cell_type": "markdown",
   "id": "e7b729c3-6b4b-4762-af1d-901954fcb642",
   "metadata": {},
   "source": [
    "3. Write a program to print the characters of a string in reverse order using a `for` loop."
   ]
  },
  {
   "cell_type": "code",
   "execution_count": 1,
   "id": "f3ee611a-d00c-42d3-8baf-fcf4429b7547",
   "metadata": {},
   "outputs": [
    {
     "name": "stdin",
     "output_type": "stream",
     "text": [
      "Enter a string Data is the new oil!\n"
     ]
    },
    {
     "name": "stdout",
     "output_type": "stream",
     "text": [
      "Reversed String: !lio wen eht si ataD \n"
     ]
    }
   ],
   "source": [
    "# Input a string from the user\n",
    "string=input(\"Enter a string\")\n",
    "\n",
    "# Initialize an empty string to store the reversed string\n",
    "rev_string=\" \"\n",
    "\n",
    "# Use a for loop for iteration\n",
    "for char in string:\n",
    "    rev_string=char+rev_string\n",
    "    \n",
    "# Print the reversed string     \n",
    "print(\"Reversed String:\" , rev_string)"
   ]
  },
  {
   "cell_type": "markdown",
   "id": "a7ebb9f9-06d8-4990-8242-40824e811c1f",
   "metadata": {},
   "source": [
    "4. Develop a program that finds the factorial of a given number using a `for` loop."
   ]
  },
  {
   "cell_type": "code",
   "execution_count": 20,
   "id": "519de9fb-451a-4a58-a439-80b1646ffeea",
   "metadata": {},
   "outputs": [
    {
     "name": "stdin",
     "output_type": "stream",
     "text": [
      "Enter the number 5\n"
     ]
    },
    {
     "name": "stdout",
     "output_type": "stream",
     "text": [
      "Factorial of 5 is: 120\n"
     ]
    }
   ],
   "source": [
    "# Input the number to find the factorial\n",
    "number=int(input(\"Enter the number\"))\n",
    "\n",
    "# Initializing factorial with the number 1\n",
    "factorial=1\n",
    "\n",
    "# Iterate the number to find the factorial\n",
    "for num in range(1,number+1):\n",
    "    factorial=factorial*num\n",
    "      \n",
    "# print the factorial of the number\n",
    "print(f\"Factorial of {number} is: {factorial}\")\n",
    "\n",
    "    "
   ]
  },
  {
   "cell_type": "markdown",
   "id": "5c988437-23ba-434d-8fd4-dcbe4c726e69",
   "metadata": {},
   "source": [
    "6. Write a program that counts the number of even and odd numbers in a list using a `for` loop."
   ]
  },
  {
   "cell_type": "code",
   "execution_count": 33,
   "id": "20c8aad0-9f1d-4e4a-b04d-0bd132af1977",
   "metadata": {},
   "outputs": [
    {
     "name": "stdout",
     "output_type": "stream",
     "text": [
      "Count of Even numbers in the list are: 6\n",
      "Count of odd numbers in the list are: 4\n"
     ]
    }
   ],
   "source": [
    "# Declare a list of numbers\n",
    "num_list=[15,46,68,100,22,9,2,81,76,1]\n",
    "\n",
    "# Initialize 0 to a vaariable to store the count \n",
    "even_num=0\n",
    "odd_num=0\n",
    "\n",
    "for num in num_list:\n",
    "    if num%2==0:\n",
    "        even_num+=1\n",
    "    else:\n",
    "        odd_num+=1\n",
    "\n",
    "# print the count of numbers that are even or odd        \n",
    "print(\"Count of Even numbers in the list are:\",even_num)\n",
    "print(\"Count of odd numbers in the list are:\",odd_num)          "
   ]
  },
  {
   "cell_type": "markdown",
   "id": "9cb96217-8e21-4aea-9e2a-e6ca9f8fcc9f",
   "metadata": {},
   "source": [
    "7. Develop a program that prints the squares of numbers from 1 to 5 using a `for` loop."
   ]
  },
  {
   "cell_type": "code",
   "execution_count": 35,
   "id": "2074ab88-5813-49c9-a79f-cdbf148a7af1",
   "metadata": {},
   "outputs": [
    {
     "name": "stdout",
     "output_type": "stream",
     "text": [
      "Square of 1 is: 1\n",
      "Square of 2 is: 4\n",
      "Square of 3 is: 9\n",
      "Square of 4 is: 16\n",
      "Square of 5 is: 25\n"
     ]
    }
   ],
   "source": [
    "# Initialize for loop within a range\n",
    "for num in range(1,6):\n",
    "    \n",
    "    # find the square using **\n",
    "    square_num=num**2\n",
    "    print(f\"Square of {num} is: {square_num}\")"
   ]
  },
  {
   "cell_type": "markdown",
   "id": "50ce86ed-7e88-489d-b082-aee47d752a53",
   "metadata": {},
   "source": [
    "8. Create a program to find the length of a string without using the `len()` function."
   ]
  },
  {
   "cell_type": "code",
   "execution_count": 40,
   "id": "66f92295-6b30-4b7a-ada0-72195ad3eb5a",
   "metadata": {},
   "outputs": [
    {
     "name": "stdin",
     "output_type": "stream",
     "text": [
      "Enter the string: Data is the new oil!\n"
     ]
    },
    {
     "name": "stdout",
     "output_type": "stream",
     "text": [
      "Count of the string is: 20\n"
     ]
    }
   ],
   "source": [
    "# Input a string form the user\n",
    "string=input(\"Enter the string:\")\n",
    "\n",
    "# Initialize a counter variable\n",
    "count=0\n",
    "\n",
    "# find the count\n",
    "for char in string:\n",
    "    count+=1\n",
    "print(\"Count of the string is:\",count)\n",
    "    "
   ]
  },
  {
   "cell_type": "markdown",
   "id": "a5d892ed-3214-4fb7-828e-3e10dc75d09a",
   "metadata": {},
   "source": [
    "9. Write a program that calculates the average of a list of numbers using a `for` loop."
   ]
  },
  {
   "cell_type": "code",
   "execution_count": 47,
   "id": "138835a1-fa45-4606-b310-c03c4c5c4549",
   "metadata": {},
   "outputs": [
    {
     "name": "stdout",
     "output_type": "stream",
     "text": [
      "Average of numbers= 42.0\n"
     ]
    }
   ],
   "source": [
    "# Declare a list of numbers\n",
    "num_list=[15,46,68,100,22,9,2,81,76,1]\n",
    "\n",
    "# Initialize  variables to store average and count \n",
    "\n",
    "total_num=0\n",
    "count=0\n",
    "\n",
    "# find the sum of numbers using for loop\n",
    "for num in num_list:\n",
    "    total_num+=num\n",
    "    count+=1\n",
    "\n",
    "# find the average of numbers    \n",
    "avg_num=sum_num/count\n",
    "\n",
    "print(\"Average of numbers=\",avg_num)"
   ]
  },
  {
   "cell_type": "markdown",
   "id": "802df028-3cbf-4cf6-89cb-5a25770a1f1a",
   "metadata": {},
   "source": [
    "10. Develop a program that prints the first `n` Fibonacci numbers using a `for` loop.\n"
   ]
  },
  {
   "cell_type": "code",
   "execution_count": 3,
   "id": "312c42a8-ba1a-45e2-b24c-a45b849c468a",
   "metadata": {},
   "outputs": [
    {
     "name": "stdin",
     "output_type": "stream",
     "text": [
      "Enter the number of Fibonacci terms:  10\n"
     ]
    },
    {
     "name": "stdout",
     "output_type": "stream",
     "text": [
      "Fibonacci Series:\n",
      "0 1 1 2 3 5 8 13 21 34 "
     ]
    }
   ],
   "source": [
    "# Initialize the first two terms of the Fibonacci sequence\n",
    "first_term, second_term = 0, 1\n",
    "\n",
    "# Input the number of terms to generate\n",
    "num_terms = int(input(\"Enter the number of Fibonacci terms: \"))\n",
    "\n",
    "# Print the Fibonacci series\n",
    "print(\"Fibonacci Series:\")\n",
    "for _ in range(num_terms):\n",
    "    print(first_term, end=\" \")  # Print the current Fibonacci term\n",
    "\n",
    "    # Update the terms for the next iteration\n",
    "    first_term, second_term = second_term, first_term + second_term"
   ]
  },
  {
   "cell_type": "markdown",
   "id": "c2f0bd32-f2a5-47ed-9bef-85ef80ea73b5",
   "metadata": {},
   "source": [
    "11. Write a program to check if a given list contains any duplicates using a `for` loop."
   ]
  },
  {
   "cell_type": "code",
   "execution_count": 21,
   "id": "46501dc3-d894-4d30-86fb-6f5f660ae905",
   "metadata": {},
   "outputs": [
    {
     "name": "stdout",
     "output_type": "stream",
     "text": [
      "2 duplicates found\n"
     ]
    }
   ],
   "source": [
    "# Declare a list with words\n",
    "my_list=['apple',2,'apples',7,'color',2,'name','name']\n",
    "\n",
    "# Initilaize a counter variable\n",
    "count_duplicates=0\n",
    "\n",
    "# loop words through the list\n",
    "for i in range(len(my_list)):\n",
    "    for j in range(i+1,len(my_list)):\n",
    "        \n",
    "        # Compare the words in the list\n",
    "        if my_list[i]==my_list[j]:\n",
    "                count_duplicates+=1\n",
    "                \n",
    "print(f\"{count_duplicates} duplicates found\")\n",
    "                \n",
    "# Check if there are no duplicates                        \n",
    "if count_duplicates==0:\n",
    "    print(\"No duplicates found!\")\n",
    "   "
   ]
  },
  {
   "cell_type": "markdown",
   "id": "4c73420d-ce8e-4841-a299-351bb615d2f5",
   "metadata": {},
   "source": [
    "12. Create a program that prints the prime numbers in a given range using a `for` loop."
   ]
  },
  {
   "cell_type": "code",
   "execution_count": 3,
   "id": "062139b6-40c2-44de-b020-e9b88e70ea09",
   "metadata": {},
   "outputs": [
    {
     "name": "stdin",
     "output_type": "stream",
     "text": [
      "Enter the start number:  10\n",
      "Enter the end number:  20\n"
     ]
    },
    {
     "name": "stdout",
     "output_type": "stream",
     "text": [
      "Prime numbers are: [11, 13, 17, 19]\n"
     ]
    }
   ],
   "source": [
    "import math\n",
    "\n",
    "def is_prime(num):\n",
    "    if num < 2:\n",
    "        return False\n",
    "\n",
    "    # Iterate over potential divisors up to the square root of the number\n",
    "    for divisor in range(2, int(math.sqrt(num)) + 1):\n",
    "        if num % divisor == 0:\n",
    "            return False  \n",
    "    return True \n",
    "\n",
    "# Get user input for the range\n",
    "start = int(input(\"Enter the start number: \"))\n",
    "end = int(input(\"Enter the end number: \"))\n",
    "\n",
    "# Generate a list of prime numbers within the specified range\n",
    "prime_numbers = [num for num in range(start, end + 1) if is_prime(num)]\n",
    "\n",
    "# Print the list of prime numbers\n",
    "print(\"Prime numbers are:\", prime_numbers)\n"
   ]
  },
  {
   "cell_type": "markdown",
   "id": "f895a450-7c17-4912-8aac-53ea5f2ffe8a",
   "metadata": {},
   "source": [
    "13. Develop a program that counts the number of vowels in a string using a `for` loop."
   ]
  },
  {
   "cell_type": "code",
   "execution_count": 7,
   "id": "cd64e48d-375d-4bc8-a54d-eee24247add0",
   "metadata": {},
   "outputs": [
    {
     "name": "stdin",
     "output_type": "stream",
     "text": [
      "Enter the string: Almighty is great!\n"
     ]
    },
    {
     "name": "stdout",
     "output_type": "stream",
     "text": [
      "Count of vowels in the string are: 5\n"
     ]
    }
   ],
   "source": [
    "# Get input from the user and convert the string to lowercase\n",
    "string = input(\"Enter the string:\").lower()\n",
    "\n",
    "# Initialize a counter for vowels\n",
    "count = 0\n",
    "\n",
    "# Iterate through each character in the string\n",
    "for char in string:\n",
    "    # Check if the character is a vowel\n",
    "    if char in \"aeiou\":\n",
    "        # Increment the vowel count\n",
    "        count += 1\n",
    "\n",
    "# Print the count of vowels in the string\n",
    "print(\"Count of vowels in the string are:\", count)"
   ]
  },
  {
   "cell_type": "markdown",
   "id": "9f6948f2-3b1b-4739-a009-ba2b0df74c8c",
   "metadata": {},
   "source": [
    "14. Write a program to find the maximum element in a 2D list using a nested `for` loop."
   ]
  },
  {
   "cell_type": "code",
   "execution_count": 21,
   "id": "bb2891e5-02ac-4ee7-9797-52045c5539a4",
   "metadata": {},
   "outputs": [
    {
     "name": "stdout",
     "output_type": "stream",
     "text": [
      "Maximum Value in the 2D list  is 987\n"
     ]
    }
   ],
   "source": [
    "# Create a 2d list\n",
    "my_list=[[100,12,323],[122,453,544],[324,987,120]]\n",
    "\n",
    "# Initialize the maximum value with 0\n",
    "max_value=0\n",
    "\n",
    "# Iterate through each element in the 2D list\n",
    "for row in my_list:\n",
    "    for value in row:\n",
    "        if value>max_value:\n",
    "            max_value=value\n",
    "            \n",
    "# Print the maximum value\n",
    "print(\"Maximum Value in the 2D list  is\",max_value)\n"
   ]
  },
  {
   "cell_type": "markdown",
   "id": "a009f413-70f8-4bdb-9df1-9d681688ae70",
   "metadata": {},
   "source": [
    "15. Create a program that removes all occurrences of a specific element from a list using a `for` loop."
   ]
  },
  {
   "cell_type": "code",
   "execution_count": 8,
   "id": "ae6bb336-6d49-475a-a6ef-22be7cb51dfb",
   "metadata": {},
   "outputs": [
    {
     "name": "stdin",
     "output_type": "stream",
     "text": [
      "Enter list of words with spaces: data is the new oil \n"
     ]
    },
    {
     "name": "stdout",
     "output_type": "stream",
     "text": [
      "['data', 'is', 'new', 'oil']\n"
     ]
    }
   ],
   "source": [
    "# Accept a string input for a list of words\n",
    "lst = input(\"Enter list of words with spaces:\").split()\n",
    "\n",
    "# Word to remove from the list\n",
    "remove_word = \"the\"\n",
    "\n",
    "# Create a new list using list comprehension to filter out the specified word\n",
    "new_list = [word for word in lst if word != remove_word]\n",
    "\n",
    "# Print the updated list without the specified word\n",
    "print(new_list)"
   ]
  },
  {
   "cell_type": "markdown",
   "id": "d8fc471b-8613-41f1-b667-e9463f21de7e",
   "metadata": {},
   "source": [
    "16. Develop a program that generates a multiplication table for numbers from 1 to 5 using a nested `for` loop."
   ]
  },
  {
   "cell_type": "code",
   "execution_count": 55,
   "id": "494ff5a2-3d8b-4354-8e51-d6720e145b01",
   "metadata": {},
   "outputs": [
    {
     "name": "stdout",
     "output_type": "stream",
     "text": [
      "Table of 1 is:\n",
      "1 x 1 = 1\n",
      "1 x 2 = 2\n",
      "1 x 3 = 3\n",
      "1 x 4 = 4\n",
      "1 x 5 = 5\n",
      "Table of 2 is:\n",
      "2 x 1 = 2\n",
      "2 x 2 = 4\n",
      "2 x 3 = 6\n",
      "2 x 4 = 8\n",
      "2 x 5 = 10\n",
      "Table of 3 is:\n",
      "3 x 1 = 3\n",
      "3 x 2 = 6\n",
      "3 x 3 = 9\n",
      "3 x 4 = 12\n",
      "3 x 5 = 15\n",
      "Table of 4 is:\n",
      "4 x 1 = 4\n",
      "4 x 2 = 8\n",
      "4 x 3 = 12\n",
      "4 x 4 = 16\n",
      "4 x 5 = 20\n",
      "Table of 5 is:\n",
      "5 x 1 = 5\n",
      "5 x 2 = 10\n",
      "5 x 3 = 15\n",
      "5 x 4 = 20\n",
      "5 x 5 = 25\n"
     ]
    }
   ],
   "source": [
    "# Iterating through the range of numbers for the multiplication table\n",
    "for num in range(1,6):\n",
    "     print(f\"Table of {num} is:\")\n",
    "        \n",
    "     # Nested loop to calculate and print the multiplication table\n",
    "     for element in range(1,6):\n",
    "        \n",
    "        # Print the multiplication table\n",
    "        print(f\"{num} x {element} = {num*element}\")    "
   ]
  },
  {
   "cell_type": "markdown",
   "id": "11e0013d-7438-4869-beff-10040e98cc6d",
   "metadata": {},
   "source": [
    "17. Write a program that converts a list of Fahrenheit temperatures to Celsius using a `for` loop.\n"
   ]
  },
  {
   "cell_type": "code",
   "execution_count": 74,
   "id": "da62bb99-3db3-46c4-89dd-125a702b3a82",
   "metadata": {},
   "outputs": [
    {
     "name": "stdout",
     "output_type": "stream",
     "text": [
      "Converted temperature is: [32.77777777777778, 37.77777777777778, 26.666666666666668, 40.0]\n"
     ]
    }
   ],
   "source": [
    "# Create sample list of temeratures\n",
    "farhen_list=[91,100,80,104]\n",
    "\n",
    "# Use a list comprehension to convert temperatures from Fahrenheit to Celsius\n",
    "celsius_list=[(temp - 32) * 5/9 for temp in farhen_list ]\n",
    "\n",
    "# Converted temperture is\n",
    "print(\"Converted temperature is:\",celsius_list)\n"
   ]
  },
  {
   "cell_type": "markdown",
   "id": "99a790fd-4bf1-4c9f-af5b-89f6de6c9147",
   "metadata": {},
   "source": [
    "18. Create a program to print the common elements from two lists using a `for` loop."
   ]
  },
  {
   "cell_type": "code",
   "execution_count": 89,
   "id": "050c4a51-2e69-400c-b492-ec39990e7fe6",
   "metadata": {},
   "outputs": [
    {
     "name": "stdout",
     "output_type": "stream",
     "text": [
      "Common elements are: [2, 'green', 3]\n"
     ]
    }
   ],
   "source": [
    "# Define two lists\n",
    "list_a=['apple',2,'red','green',3]\n",
    "list_b=['orange',2,'orange','kiwi',3,'green']\n",
    "\n",
    "# Initialize an empty list to store common elements\n",
    "elements=[]\n",
    "\n",
    "# Iterate through elements in lista\n",
    "for element in list_a :\n",
    "    # Check if elements are in list_b\n",
    "    if element in list_b:\n",
    "        # Append common elements to the empty list\n",
    "        elements.append(element)\n",
    "\n",
    "# Print the common elements\n",
    "print(\"Common elements are:\",elements)"
   ]
  },
  {
   "cell_type": "markdown",
   "id": "ce3e6dd5-10dc-47f6-997f-1af95a61bdf2",
   "metadata": {},
   "source": [
    "19. Develop a program that prints the pattern of right-angled triangles using a `for` loop. Use ‘*’ to draw the pattern"
   ]
  },
  {
   "cell_type": "code",
   "execution_count": 110,
   "id": "6b634fb3-125b-463a-a430-f0afd75b5ab6",
   "metadata": {},
   "outputs": [
    {
     "name": "stdin",
     "output_type": "stream",
     "text": [
      "Enter the size of the triangle pattern to be printed: 10\n"
     ]
    },
    {
     "name": "stdout",
     "output_type": "stream",
     "text": [
      "* \n",
      "* * \n",
      "* * * \n",
      "* * * * \n",
      "* * * * * \n",
      "* * * * * * \n",
      "* * * * * * * \n",
      "* * * * * * * * \n",
      "* * * * * * * * * \n",
      "* * * * * * * * * * \n"
     ]
    }
   ],
   "source": [
    "size=int(input(\"Enter the size of the triangle pattern to be printed:\"))\n",
    "\n",
    "# Outer loop for each row\n",
    "for rows in range(1,size+1):\n",
    "    # Inner loop for printing asterisks in each row \n",
    "    for r in range(rows):\n",
    "        print(\"*\",end=\" \")\n",
    "    print()       "
   ]
  },
  {
   "cell_type": "markdown",
   "id": "ea144a27-1805-4be0-8e82-8d1cb0d23454",
   "metadata": {},
   "source": [
    "20. Write a program to find the greatest common divisor (GCD) of two numbers using a `for` loop."
   ]
  },
  {
   "cell_type": "code",
   "execution_count": 18,
   "id": "1b6c14f8-8283-408e-a4a8-105f66db7cee",
   "metadata": {},
   "outputs": [
    {
     "name": "stdin",
     "output_type": "stream",
     "text": [
      "Enter two numbers seperated by a comma 10,20\n"
     ]
    },
    {
     "name": "stdout",
     "output_type": "stream",
     "text": [
      "GCD= 10\n"
     ]
    }
   ],
   "source": [
    "# Input 2 numbers from the user\n",
    "a,b=map(int,input(\"Enter two numbers seperated by a comma\").split(','))\n",
    "\n",
    "# CReating empty list to store gcd\n",
    "gcd_a=[]\n",
    "gcd_b=[]\n",
    "gcd=[]\n",
    "\n",
    "# Finding divisors for both numbers\n",
    "for divisor in range(1,a+1):\n",
    "    if a%divisor==0:\n",
    "        gcd_a.append(divisor)\n",
    "for div in range(1,b+1):\n",
    "    if b%div==0:\n",
    "        gcd_b.append(div)\n",
    "        \n",
    " # Checking for common divisor       \n",
    "for num in gcd_a:\n",
    "    if num in gcd_b:\n",
    "        gcd.append(num)\n",
    "        \n",
    "# Print the greatest GCD\n",
    "print(\"GCD=\",max(gcd))\n",
    "\n",
    "        \n",
    "        "
   ]
  },
  {
   "cell_type": "code",
   "execution_count": 17,
   "id": "3d972d9d-f4f0-4e06-9400-b8c4ba6e47ea",
   "metadata": {},
   "outputs": [
    {
     "name": "stdin",
     "output_type": "stream",
     "text": [
      "Enter two numbers of which GCD should be found 10,20\n"
     ]
    },
    {
     "name": "stdout",
     "output_type": "stream",
     "text": [
      "Greatest Common Divisor of 10 and 20 are: 10\n"
     ]
    }
   ],
   "source": [
    "a,b=map(int,input(\"Enter two numbers of which GCD should be found\").split(','))\n",
    "for divisor in range(1,max(a,b)+1):\n",
    "    if a%divisor==0 and b%divisor==0:\n",
    "        gcd=a\n",
    "print(f\"Greatest Common Divisor of {a} and {b} are: {gcd}\")\n",
    "    "
   ]
  },
  {
   "cell_type": "markdown",
   "id": "8cd890a6-99cc-4667-945f-7aebb5693fca",
   "metadata": {},
   "source": [
    "21. Create a program that calculates the sum of the digits of numbers in a list using a list comprehension."
   ]
  },
  {
   "cell_type": "code",
   "execution_count": 11,
   "id": "b98cd686-92c4-4a45-b674-573ed3980f4a",
   "metadata": {},
   "outputs": [
    {
     "name": "stdout",
     "output_type": "stream",
     "text": [
      "Sum of digits for each number: [3, 5, 7, 9, 11]\n"
     ]
    }
   ],
   "source": [
    "my_list = [12, 23, 34, 45, 56]\n",
    "\n",
    "# Use a list comprehension to calculate the sum of digits  number\n",
    "digit_sums = [sum(int(digits) for digits in str(num)) for num in my_list]\n",
    "                 \n",
    "# Print the list of digit sums\n",
    "print(\"Sum of digits for each number:\", digit_sums)"
   ]
  },
  {
   "cell_type": "markdown",
   "id": "13266eac-881b-499e-ae93-c8b0fac95f4b",
   "metadata": {},
   "source": [
    "22. Write a program to find the prime factors of a given number using a `for` loop and list comprehension."
   ]
  },
  {
   "cell_type": "code",
   "execution_count": 3,
   "id": "0d2699af-83bc-48dd-9bb4-2dc7971a5f5b",
   "metadata": {},
   "outputs": [
    {
     "name": "stdin",
     "output_type": "stream",
     "text": [
      "Enter the number 12\n"
     ]
    },
    {
     "name": "stdout",
     "output_type": "stream",
     "text": [
      "Prime factors of 12 are: [2, 3]\n"
     ]
    }
   ],
   "source": [
    "import math\n",
    "\n",
    "# Get user input for the number\n",
    "number=int(input(\"Enter the number:\"))\n",
    "\n",
    "# Initialize a flag to check if the number is prime\n",
    "is_prime=True\n",
    "      \n",
    "# Check for factors from 2 to the square root of the number\n",
    "for divisor in range(2,int(math.sqrt(number))+1):\n",
    "        if number%divisor==0:\n",
    "            is_prime=False  # If a divisor is found, the number is not prime\n",
    "            break       \n",
    "            \n",
    "#if the number is prime, its only factors are 1 and itself            \n",
    "if is_prime:\n",
    "    prime_factors = [1,number] # If the number is prime, it's its own prime factor\n",
    "    \n",
    "             \n",
    "else:\n",
    "    # Use a list comprehension to find prime factors of the number\n",
    "    prime_factors=[x for x in range(2,int(math.sqrt(number))+1)  if number%x==0  and \n",
    "               all(x % d != 0 for d in range(2, int(math.sqrt(x)) + 1))]\n",
    "    \n",
    "# Print the prime factors of the number\n",
    "print(f\"Prime factors of {number} are: {prime_factors}\")\n",
    "           "
   ]
  },
  {
   "cell_type": "markdown",
   "id": "cb53c6db-03c7-4b8a-9dbf-41cea722df9a",
   "metadata": {},
   "source": [
    "23. Develop a program that extracts unique elements from a list and stores them in a new list using a list\n",
    "comprehension."
   ]
  },
  {
   "cell_type": "code",
   "execution_count": 16,
   "id": "260b4e55-6d69-4510-bfda-51c9e5e15b25",
   "metadata": {},
   "outputs": [
    {
     "name": "stdout",
     "output_type": "stream",
     "text": [
      "Unique elements: ['orange', 'green', 1, 3]\n"
     ]
    }
   ],
   "source": [
    "# Sample list\n",
    "my_list=['red','red','orange','green',1,2,2,3]\n",
    "\n",
    "# Use a list comprehension to extract unique elements\n",
    "\n",
    "unique_list=[my_list[i] for i,item in enumerate(my_list) if my_list.count(item)==1] \n",
    "\n",
    "# Print the unique elements\n",
    "print(\"Unique elements:\", unique_list)\n",
    "\n"
   ]
  },
  {
   "cell_type": "code",
   "execution_count": 18,
   "id": "c48831f6-7b50-437f-91cf-651782195f5b",
   "metadata": {},
   "outputs": [
    {
     "name": "stdout",
     "output_type": "stream",
     "text": [
      "Unique elements: ['red', 'orange', 'green', 1, 2, 3]\n"
     ]
    }
   ],
   "source": [
    "# Sample list\n",
    "my_list=['red','red','orange','green',1,2,2,3]\n",
    "\n",
    "# Use a list comprehension to extract unique elements\n",
    "unique_list = []\n",
    "[unique_list.append(item) for item in my_list if item not in unique_list]\n",
    "\n",
    "# Print the unique elements\n",
    "print(\"Unique elements:\", unique_list)"
   ]
  },
  {
   "cell_type": "markdown",
   "id": "c0bd71c9-c7ba-4b1a-add8-f5a4a445f005",
   "metadata": {},
   "source": [
    "24. Create a program that generates a list of all palindromic numbers up to a specified limit using a list\n",
    "comprehension."
   ]
  },
  {
   "cell_type": "code",
   "execution_count": 36,
   "id": "edeb18c1-f012-42df-b70e-a7faf7f84906",
   "metadata": {},
   "outputs": [
    {
     "name": "stdin",
     "output_type": "stream",
     "text": [
      "Enter a limit above 9: 11\n"
     ]
    },
    {
     "name": "stdout",
     "output_type": "stream",
     "text": [
      "Palindrome numbers upto 11 are: [11]\n"
     ]
    }
   ],
   "source": [
    "# Define the upper limit\n",
    "limit=int(input(\"Enter a limit above 9:\"))\n",
    "\n",
    "# Use a list comprehension to generate palindromic numbers\n",
    "pal_list=[num  for num in range(10,limit+1) if str(num)==str(num)[::-1]]\n",
    "\n",
    "# Print the list of palindromic numbers\n",
    "print(f\"Palindrome numbers upto {limit} are: {pal_list}\")"
   ]
  },
  {
   "cell_type": "markdown",
   "id": "d0f0441a-6729-436a-aa52-e249e2427683",
   "metadata": {},
   "source": [
    "25. Write a program to flatten a nested list using list comprehension."
   ]
  },
  {
   "cell_type": "code",
   "execution_count": 12,
   "id": "02ebc493-eb97-418b-9e1e-9b485e3c01dd",
   "metadata": {},
   "outputs": [
    {
     "name": "stdout",
     "output_type": "stream",
     "text": [
      "[1, 2, 3, 4, 5, 6, 7, 8, 9, 10, 11, 12, 13]\n"
     ]
    }
   ],
   "source": [
    "# Nested list containing sublists\n",
    "nested_list=[[1,2,3,4,5],[6,7,8,9],[10,11,12,13]]\n",
    "\n",
    "# list comprehension to flatten the nested list\n",
    "flattened_list=[elements for sublist in nested_list for elements in sublist]\n",
    "\n",
    "# Pring flattened list\n",
    "print(flattened_list)"
   ]
  },
  {
   "cell_type": "markdown",
   "id": "d1289069-5cc6-44ab-8602-87f5af8d0867",
   "metadata": {},
   "source": [
    "26. Develop a program that computes the sum of even and odd numbers in a list separately using list\n",
    "comprehension."
   ]
  },
  {
   "cell_type": "code",
   "execution_count": 13,
   "id": "7945af9f-c2a3-4dbf-a490-5573b9773c6d",
   "metadata": {},
   "outputs": [
    {
     "name": "stdout",
     "output_type": "stream",
     "text": [
      "Sum of even numbers: 20\n",
      "Sum of odd numbers: 25\n"
     ]
    }
   ],
   "source": [
    "# Sample list \n",
    "my_list = [1, 2, 3, 4, 5, 6, 7, 8, 9]\n",
    "\n",
    "# list Comprehension to filter out even and odd numbers\n",
    "even_numbers = sum([x for x in my_list if x % 2 == 0])\n",
    "odd_numbers = sum([x for x in my_list if x % 2 != 0])\n",
    "\n",
    "# Print the sum of even and odd nu,bers\n",
    "print(\"Sum of even numbers:\",sum_even)\n",
    "print(\"Sum of odd numbers:\", sum_odd)"
   ]
  },
  {
   "cell_type": "markdown",
   "id": "26e47667-6e01-4e44-86e7-f92d340c8f13",
   "metadata": {},
   "source": [
    "27. Create a program that generates a list of squares of odd numbers between 1 and 10 using list\n",
    "comprehension."
   ]
  },
  {
   "cell_type": "code",
   "execution_count": 21,
   "id": "23e2c237-5112-4738-b57a-aa91a8d53919",
   "metadata": {},
   "outputs": [
    {
     "name": "stdout",
     "output_type": "stream",
     "text": [
      "Squared List= [1, 9, 25, 49, 81]\n"
     ]
    }
   ],
   "source": [
    "# Use list comprehension to generate squares of odd numbers\n",
    "squared_list=[x**2 for x in range(1,11) if x%2!=0]\n",
    "\n",
    "# Print squares of odd numbers \n",
    "print(\"Squared List=\",squared_list)\n"
   ]
  },
  {
   "cell_type": "markdown",
   "id": "78b6e798-285a-4abe-848d-44dd2aec3de8",
   "metadata": {},
   "source": [
    "28. Write a program that combines two lists into a dictionary using list comprehension."
   ]
  },
  {
   "cell_type": "code",
   "execution_count": 52,
   "id": "d82a46f9-8e80-405a-9fa5-65109a0af1d8",
   "metadata": {},
   "outputs": [
    {
     "name": "stdout",
     "output_type": "stream",
     "text": [
      "combined list to a dictionary: [{'Name': 'Rubay', 'Age': 37, 'City': 'DXB'}]\n"
     ]
    }
   ],
   "source": [
    "# Sample lists\n",
    "l1=['Name','Age','City']\n",
    "l2=['Rubay',37,'DXB']\n",
    "\n",
    "# list comprehension to combine lists into a dictionary\n",
    "combined_list=[{key:value for key,value in zip(l1,l2)} ]\n",
    "\n",
    "# Print the combined list\n",
    "print(\"combined list to a dictionary:\",combined_list)"
   ]
  },
  {
   "cell_type": "markdown",
   "id": "7d293f79-170f-4e0c-b31e-19346a811339",
   "metadata": {},
   "source": [
    "29. Develop a program that extracts the vowels from a string and stores them in a list using list comprehension."
   ]
  },
  {
   "cell_type": "code",
   "execution_count": 62,
   "id": "90929b63-5fbc-45cb-9b05-2ab5446757cf",
   "metadata": {},
   "outputs": [
    {
     "name": "stdin",
     "output_type": "stream",
     "text": [
      "Enter your string:  I am Rubayah\n"
     ]
    },
    {
     "name": "stdout",
     "output_type": "stream",
     "text": [
      "List of vowels in the string are: ['i', 'a', 'u', 'a', 'a']\n"
     ]
    }
   ],
   "source": [
    "# Input String\n",
    "my_string=(input(\"Enter your string: \").lower())\n",
    "\n",
    "# List comprehension to extract vowels\n",
    "vowel_list=[char for char in my_string if char in 'aeiou' ]\n",
    "\n",
    "# Output the list of vowels\n",
    "print(\"List of vowels in the string are:\",vowel_list)"
   ]
  },
  {
   "cell_type": "markdown",
   "id": "f44bcb9f-e36d-439f-ac97-f7a5b444309e",
   "metadata": {},
   "source": [
    "30. Create a program that removes all non-numeric characters from a list of strings using list comprehension."
   ]
  },
  {
   "cell_type": "code",
   "execution_count": 1,
   "id": "d17a7380-860a-4b51-a133-a03327871cee",
   "metadata": {},
   "outputs": [
    {
     "name": "stdout",
     "output_type": "stream",
     "text": [
      "non numeric strings: ['7', '20', '123']\n"
     ]
    }
   ],
   "source": [
    "my_list=['pwskills/7','datascience2.0','123mission%']\n",
    "non_num=[''.join([char for char in allstring if char.isdigit()]) for allstring in my_list]\n",
    "print('non numeric strings:',non_num)"
   ]
  },
  {
   "cell_type": "markdown",
   "id": "4d0cc322-f85d-4202-962b-30df8196f3ec",
   "metadata": {},
   "source": [
    "31. Write a program to generate a list of prime numbers using the Sieve of Eratosthenes algorithm and list\n",
    "comprehension."
   ]
  },
  {
   "cell_type": "code",
   "execution_count": 9,
   "id": "373eaa12-6370-4b25-9a30-2b2fb58fa9ba",
   "metadata": {},
   "outputs": [
    {
     "name": "stdin",
     "output_type": "stream",
     "text": [
      "Enter the limit  50\n"
     ]
    },
    {
     "name": "stdout",
     "output_type": "stream",
     "text": [
      "[2, 3, 5, 7, 11, 13, 17, 19, 23, 29, 31, 37, 41, 43, 47]\n"
     ]
    }
   ],
   "source": [
    "import math\n",
    "limit=int(input(\"Enter the limit \"))\n",
    "p=[ num for num in range(2,limit+1) if all(num%divisor!=0 for divisor in range(2,int(math.sqrt(num))+1)) ]\n",
    "print(p) "
   ]
  },
  {
   "cell_type": "code",
   "execution_count": 2,
   "id": "1e0d5cfe-abfe-4451-8b81-555cdc93275f",
   "metadata": {},
   "outputs": [
    {
     "name": "stdin",
     "output_type": "stream",
     "text": [
      "Enter the upper limit 50\n"
     ]
    },
    {
     "name": "stdout",
     "output_type": "stream",
     "text": [
      "Prime numbers upto 50 are:[2, 3, 5, 7, 11, 13, 17, 19, 23, 29, 31, 37, 41, 43, 47]\n"
     ]
    }
   ],
   "source": [
    "# Define a function named sieve_eratosthenes that takes an upper limit as its argument.\n",
    "def seive_eratosthenes(limit):\n",
    "    # Create a list called 'sieve' and initialize it with 'True' values.\n",
    "    seive=[True]*(limit+1)\n",
    "    # Mark 0 and 1 as 'False' in the 'sieve' list because they are not prime\n",
    "    seive[0]=seive[1]=False\n",
    "    \n",
    "     # Start looping through numbers from 2 to the square root of the limit\n",
    "    for current in range(2,int(limit**0.5)+1):\n",
    "        # If the current number is marked as prime (True), mark its multiples as not prime (False)\n",
    "        if seive[current]:\n",
    "            # Start from the square of the current number and mark all its multiples as False\n",
    "            for multiple in range(current*current,limit+1,current):\n",
    "                seive[multiple]=False\n",
    "                \n",
    "    # Create a list called 'primes' containing numbers that are marked as prime (True) in the 'sieve' list            \n",
    "    primes=[number for number,is_prime in enumerate(seive) if is_prime]\n",
    "    # Return the list of prime numbers\n",
    "    return primes\n",
    "\n",
    "# Input the upper limit\n",
    "limit=int(input(\"Enter the upper limit\"))\n",
    "# Call the 'sieve_eratosthenes' function with the specified upper limit and store the result in 'prime_numbers'.\n",
    "\n",
    "prime_numbers=seive_eratosthenes(limit)\n",
    "# Print the prime numbers upto thespecified limit\n",
    "print(f\"Prime numbers upto {limit} are:{prime_numbers}\")\n",
    "                \n",
    "            \n",
    "    "
   ]
  },
  {
   "cell_type": "markdown",
   "id": "4dc6beb5-a7f5-40cb-86ef-d7e6a5edb989",
   "metadata": {},
   "source": [
    "32. Create a program that generates a list of all Pythagorean triplets up to a specified limit using list\n",
    "comprehension."
   ]
  },
  {
   "cell_type": "code",
   "execution_count": 7,
   "id": "9f0290c8-2584-4d31-bc09-31da51d26a0c",
   "metadata": {},
   "outputs": [
    {
     "name": "stdin",
     "output_type": "stream",
     "text": [
      "Enter upper limit: 20\n"
     ]
    },
    {
     "name": "stdout",
     "output_type": "stream",
     "text": [
      "Pythagorean triplets up to 20 are:\n",
      "[(3, 4, 5), (5, 12, 13), (6, 8, 10), (8, 15, 17), (9, 12, 15), (12, 16, 20)]\n"
     ]
    }
   ],
   "source": [
    "# Get the limit from the user\n",
    "limit=int(input(\"Enter upper limit:\"))\n",
    "\n",
    "# Use list comprehension to generate triplets (a, b, c)\n",
    "triplets=[(a,b,c) for a in range(1,limit+1) for b in range(a,limit+1) for c in range(b,limit+1)\n",
    "          if a**2+b**2==c**2]\n",
    "\n",
    "# Filter out duplicate and multiple triplets\n",
    "unique_triplets=[]\n",
    "for triplet in triplets:\n",
    "    sorted_triplets=sorted(tuple(triplets))\n",
    "    if sorted_triplets not in unique_triplets:\n",
    "        unique_triplets.append(sorted_triplets)\n",
    "        \n",
    "# Print the unique Pythagorean triplets         \n",
    "print(\"Pythagorean triplets up to\", limit, \"are:\")\n",
    "for triplet in unique_triplets:\n",
    "    print(triplet)"
   ]
  },
  {
   "cell_type": "markdown",
   "id": "4693985b-c490-4620-8d75-e3845b6b7576",
   "metadata": {},
   "source": [
    "33. Develop a program that generates a list of all possible combinations of two lists using list comprehension."
   ]
  },
  {
   "cell_type": "code",
   "execution_count": 8,
   "id": "6412e2f7-6666-4532-a3bc-591ef6db532c",
   "metadata": {},
   "outputs": [
    {
     "name": "stdout",
     "output_type": "stream",
     "text": [
      "[(1, 6), (1, 7), (1, 8), (1, 9), (2, 6), (2, 7), (2, 8), (2, 9), (3, 6), (3, 7), (3, 8), (3, 9), (4, 6), (4, 7), (4, 8), (4, 9), (5, 6), (5, 7), (5, 8), (5, 9)]\n"
     ]
    }
   ],
   "source": [
    "list1=[1,2,3,4,5]\n",
    "list2=[6,7,8,9]\n",
    "list_comb=[ (x,y) for x in list1 for y in list2]\n",
    "print(list_comb)\n"
   ]
  },
  {
   "cell_type": "markdown",
   "id": "1503d380-7b2f-44cc-90fd-ee860d9b5fec",
   "metadata": {},
   "source": [
    "34. Write a program that calculates the mean, median, and mode of a list of numbers using list\n",
    "comprehension."
   ]
  },
  {
   "cell_type": "code",
   "execution_count": 20,
   "id": "36d01501-03c3-444b-8255-33bf76ba8745",
   "metadata": {},
   "outputs": [
    {
     "name": "stdout",
     "output_type": "stream",
     "text": [
      "Mean: 4.0\n",
      "Median: [4.5]\n",
      "Mode: [2, 6]\n"
     ]
    }
   ],
   "source": [
    "# Sample list of numbers\n",
    "my_list=[1,1,2,2,2,4,5,6,6,6,5,8]\n",
    "\n",
    "# Calculate mean\n",
    "mean=sum(my_list)/len(my_list)\n",
    "print(\"Mean:\",mean)\n",
    "\n",
    "# Calculate median using list comprehension\n",
    "sorted_list=sorted(my_list)\n",
    "length=len(sorted_list)\n",
    "median=[(sorted_list[(length-1)//2] + sorted_list[length//2])/2 if length%2==0 \n",
    "        else sorted_list[length//2]]\n",
    "print(\"Median:\",median)\n",
    "\n",
    "# Calculate mode using list comprehension\n",
    "count_dict={num:my_list.count(num) for num in my_list}\n",
    "count_max=max(count_dict.values())\n",
    "mode=[num for num,values in count_dict.items() if values==count_max ]\n",
    "print(\"Mode:\",mode)\n"
   ]
  },
  {
   "cell_type": "markdown",
   "id": "322e400b-bcca-4379-9841-babd0d5e411f",
   "metadata": {},
   "source": [
    "35. Create a program that generates Pascal's triangle up to a specified number of rows using list\n",
    "comprehension."
   ]
  },
  {
   "cell_type": "code",
   "execution_count": 26,
   "id": "f062d744-e382-4857-9301-ee8ddbeb41ed",
   "metadata": {},
   "outputs": [
    {
     "name": "stdin",
     "output_type": "stream",
     "text": [
      "Enter the number of rows for Pascal's triangle:  10\n"
     ]
    },
    {
     "name": "stdout",
     "output_type": "stream",
     "text": [
      "                        1                         \n",
      "                       1 1                        \n",
      "                      1 2 1                       \n",
      "                     1 3 3 1                      \n",
      "                    1 4 6 4 1                     \n",
      "                  1 5 10 10 5 1                   \n",
      "                 1 6 15 20 15 6 1                 \n",
      "               1 7 21 35 35 21 7 1                \n",
      "              1 8 28 56 70 56 28 8 1              \n",
      "           1 9 36 84 126 126 84 36 9 1            \n"
     ]
    }
   ],
   "source": [
    "def generate_pascals_triangle(rows):\n",
    "    triangle = []\n",
    "    for i in range(rows):\n",
    "        row = [1]  # First element is always 1\n",
    "        if i > 0:\n",
    "            for j in range(1, i):\n",
    "                # Calculate each element based on the sum of the two elements above\n",
    "                element = triangle[i-1][j-1] + triangle[i-1][j]\n",
    "                row.append(element)\n",
    "            row.append(1)  # Last element is always 1\n",
    "        triangle.append(row)\n",
    "    return triangle\n",
    "\n",
    "# Input the number of rows you want in Pascal's triangle\n",
    "num_rows = int(input(\"Enter the number of rows for Pascal's triangle: \"))\n",
    "\n",
    "pascals_triangle = generate_pascals_triangle(num_rows)\n",
    "\n",
    "# Print Pascal's triangle\n",
    "for row in pascals_triangle:\n",
    "    print(' '.join(map(str, row)).center(num_rows * 5))\n"
   ]
  },
  {
   "cell_type": "markdown",
   "id": "8815ffff-31c0-40ca-8860-355aaa661b67",
   "metadata": {},
   "source": [
    "36. Develop a program that calculates the sum of the digits of a factorial of numbers from 1 to 5 using list\n",
    "comprehension."
   ]
  },
  {
   "cell_type": "code",
   "execution_count": 8,
   "id": "9ce5b849-ca28-4e5a-87d0-66ab3c5477e0",
   "metadata": {},
   "outputs": [
    {
     "name": "stdout",
     "output_type": "stream",
     "text": [
      "Sum of 1! is :1\n",
      "Sum of 2! is :2\n",
      "Sum of 3! is :6\n",
      "Sum of 4! is :6\n",
      "Sum of 5! is :3\n"
     ]
    }
   ],
   "source": [
    "def factorial(num):\n",
    "    if num==0:\n",
    "        return 1\n",
    "    else:\n",
    "        return num*factorial(num-1)\n",
    "    \n",
    "digits_sum=[sum(int(digit) for digit in str(factorial(num))) for num in range(1,6)]\n",
    "\n",
    "\n",
    "for num,digits_sum in enumerate(digits_sum,start=1):\n",
    "    print(f\"Sum of {num}! is :{digits_sum}\")\n"
   ]
  },
  {
   "cell_type": "markdown",
   "id": "1f08b6d8-377e-4d71-ac72-6c6eeda20ce9",
   "metadata": {},
   "source": [
    "37. Write a program that finds the longest word in a sentence using list comprehension.\n"
   ]
  },
  {
   "cell_type": "code",
   "execution_count": 9,
   "id": "7185f1fe-c237-4402-8442-8e096ecaeaeb",
   "metadata": {},
   "outputs": [
    {
     "name": "stdin",
     "output_type": "stream",
     "text": [
      "Enter your sentence: Data is the new oil \n"
     ]
    },
    {
     "name": "stdout",
     "output_type": "stream",
     "text": [
      "Longest word is: ['Data']\n"
     ]
    }
   ],
   "source": [
    "# Input a sentence and split it into words\n",
    "sentence=input(\"Enter your sentence:\").split()\n",
    "\n",
    "# Find the length of the longest word in the sentence\n",
    "longest_length=max(len(word) for word in sentence)\n",
    "\n",
    "# Create a list of words that have the same length as the longest word\n",
    "longest_word=[word for word in sentence if len(word)==longest_length]\n",
    "\n",
    "# Print the longest word\n",
    "print(\"Longest word is:\",longest_word)"
   ]
  },
  {
   "cell_type": "markdown",
   "id": "aa8b6561-0d0b-4bdf-9b47-5e5320330502",
   "metadata": {},
   "source": [
    "38. Create a program that filters a list of strings to include only those with more than three vowels using list\n",
    "comprehension."
   ]
  },
  {
   "cell_type": "code",
   "execution_count": 36,
   "id": "b74942b8-7eec-4eaa-aacf-b8102e4d92de",
   "metadata": {},
   "outputs": [
    {
     "name": "stdout",
     "output_type": "stream",
     "text": [
      "Strings with more than three vowels: ['Data is vast', ' PWSkills is good', 'DataScience']\n"
     ]
    }
   ],
   "source": [
    "# Input list of strings\n",
    "string_list=[\"Data is vast\",\" PWSkills is good\",\"Programming\",\"DataScience\"]\n",
    "\n",
    "# Use list comprehension to filter strings with more than three vowels\n",
    "filtered_strings=[string for string in string_list if sum(1 for char in string if char in \"AEIOUaeiou\")>3]\n",
    "\n",
    "# Print the filtered list\n",
    "print(\"Strings with more than three vowels:\", filtered_strings)"
   ]
  },
  {
   "cell_type": "markdown",
   "id": "28e45f9e-09ff-43d3-b054-cb85d9d6e287",
   "metadata": {},
   "source": [
    "39. Develop a program that calculates the sum of the digits of numbers from 1 to 1000 using list\n",
    "comprehension."
   ]
  },
  {
   "cell_type": "code",
   "execution_count": 20,
   "id": "75c2e745-a12c-4505-95e9-d54e343240b1",
   "metadata": {},
   "outputs": [
    {
     "name": "stdout",
     "output_type": "stream",
     "text": [
      "[1, 2, 3, 4, 5, 6, 7, 8, 9, 1, 2, 3, 4, 5, 6, 7, 8, 9, 10, 2, 3, 4, 5, 6, 7, 8, 9, 10, 11, 3, 4, 5, 6, 7, 8, 9, 10, 11, 12, 4, 5, 6, 7, 8, 9, 10, 11, 12, 13, 5, 6, 7, 8, 9, 10, 11, 12, 13, 14, 6, 7, 8, 9, 10, 11, 12, 13, 14, 15, 7, 8, 9, 10, 11, 12, 13, 14, 15, 16, 8, 9, 10, 11, 12, 13, 14, 15, 16, 17, 9, 10, 11, 12, 13, 14, 15, 16, 17, 18, 1, 2, 3, 4, 5, 6, 7, 8, 9, 10, 2, 3, 4, 5, 6, 7, 8, 9, 10, 11, 3, 4, 5, 6, 7, 8, 9, 10, 11, 12, 4, 5, 6, 7, 8, 9, 10, 11, 12, 13, 5, 6, 7, 8, 9, 10, 11, 12, 13, 14, 6, 7, 8, 9, 10, 11, 12, 13, 14, 15, 7, 8, 9, 10, 11, 12, 13, 14, 15, 16, 8, 9, 10, 11, 12, 13, 14, 15, 16, 17, 9, 10, 11, 12, 13, 14, 15, 16, 17, 18, 10, 11, 12, 13, 14, 15, 16, 17, 18, 19, 2, 3, 4, 5, 6, 7, 8, 9, 10, 11, 3, 4, 5, 6, 7, 8, 9, 10, 11, 12, 4, 5, 6, 7, 8, 9, 10, 11, 12, 13, 5, 6, 7, 8, 9, 10, 11, 12, 13, 14, 6, 7, 8, 9, 10, 11, 12, 13, 14, 15, 7, 8, 9, 10, 11, 12, 13, 14, 15, 16, 8, 9, 10, 11, 12, 13, 14, 15, 16, 17, 9, 10, 11, 12, 13, 14, 15, 16, 17, 18, 10, 11, 12, 13, 14, 15, 16, 17, 18, 19, 11, 12, 13, 14, 15, 16, 17, 18, 19, 20, 3, 4, 5, 6, 7, 8, 9, 10, 11, 12, 4, 5, 6, 7, 8, 9, 10, 11, 12, 13, 5, 6, 7, 8, 9, 10, 11, 12, 13, 14, 6, 7, 8, 9, 10, 11, 12, 13, 14, 15, 7, 8, 9, 10, 11, 12, 13, 14, 15, 16, 8, 9, 10, 11, 12, 13, 14, 15, 16, 17, 9, 10, 11, 12, 13, 14, 15, 16, 17, 18, 10, 11, 12, 13, 14, 15, 16, 17, 18, 19, 11, 12, 13, 14, 15, 16, 17, 18, 19, 20, 12, 13, 14, 15, 16, 17, 18, 19, 20, 21, 4, 5, 6, 7, 8, 9, 10, 11, 12, 13, 5, 6, 7, 8, 9, 10, 11, 12, 13, 14, 6, 7, 8, 9, 10, 11, 12, 13, 14, 15, 7, 8, 9, 10, 11, 12, 13, 14, 15, 16, 8, 9, 10, 11, 12, 13, 14, 15, 16, 17, 9, 10, 11, 12, 13, 14, 15, 16, 17, 18, 10, 11, 12, 13, 14, 15, 16, 17, 18, 19, 11, 12, 13, 14, 15, 16, 17, 18, 19, 20, 12, 13, 14, 15, 16, 17, 18, 19, 20, 21, 13, 14, 15, 16, 17, 18, 19, 20, 21, 22, 5, 6, 7, 8, 9, 10, 11, 12, 13, 14, 6, 7, 8, 9, 10, 11, 12, 13, 14, 15, 7, 8, 9, 10, 11, 12, 13, 14, 15, 16, 8, 9, 10, 11, 12, 13, 14, 15, 16, 17, 9, 10, 11, 12, 13, 14, 15, 16, 17, 18, 10, 11, 12, 13, 14, 15, 16, 17, 18, 19, 11, 12, 13, 14, 15, 16, 17, 18, 19, 20, 12, 13, 14, 15, 16, 17, 18, 19, 20, 21, 13, 14, 15, 16, 17, 18, 19, 20, 21, 22, 14, 15, 16, 17, 18, 19, 20, 21, 22, 23, 6, 7, 8, 9, 10, 11, 12, 13, 14, 15, 7, 8, 9, 10, 11, 12, 13, 14, 15, 16, 8, 9, 10, 11, 12, 13, 14, 15, 16, 17, 9, 10, 11, 12, 13, 14, 15, 16, 17, 18, 10, 11, 12, 13, 14, 15, 16, 17, 18, 19, 11, 12, 13, 14, 15, 16, 17, 18, 19, 20, 12, 13, 14, 15, 16, 17, 18, 19, 20, 21, 13, 14, 15, 16, 17, 18, 19, 20, 21, 22, 14, 15, 16, 17, 18, 19, 20, 21, 22, 23, 15, 16, 17, 18, 19, 20, 21, 22, 23, 24, 7, 8, 9, 10, 11, 12, 13, 14, 15, 16, 8, 9, 10, 11, 12, 13, 14, 15, 16, 17, 9, 10, 11, 12, 13, 14, 15, 16, 17, 18, 10, 11, 12, 13, 14, 15, 16, 17, 18, 19, 11, 12, 13, 14, 15, 16, 17, 18, 19, 20, 12, 13, 14, 15, 16, 17, 18, 19, 20, 21, 13, 14, 15, 16, 17, 18, 19, 20, 21, 22, 14, 15, 16, 17, 18, 19, 20, 21, 22, 23, 15, 16, 17, 18, 19, 20, 21, 22, 23, 24, 16, 17, 18, 19, 20, 21, 22, 23, 24, 25, 8, 9, 10, 11, 12, 13, 14, 15, 16, 17, 9, 10, 11, 12, 13, 14, 15, 16, 17, 18, 10, 11, 12, 13, 14, 15, 16, 17, 18, 19, 11, 12, 13, 14, 15, 16, 17, 18, 19, 20, 12, 13, 14, 15, 16, 17, 18, 19, 20, 21, 13, 14, 15, 16, 17, 18, 19, 20, 21, 22, 14, 15, 16, 17, 18, 19, 20, 21, 22, 23, 15, 16, 17, 18, 19, 20, 21, 22, 23, 24, 16, 17, 18, 19, 20, 21, 22, 23, 24, 25, 17, 18, 19, 20, 21, 22, 23, 24, 25, 26, 9, 10, 11, 12, 13, 14, 15, 16, 17, 18, 10, 11, 12, 13, 14, 15, 16, 17, 18, 19, 11, 12, 13, 14, 15, 16, 17, 18, 19, 20, 12, 13, 14, 15, 16, 17, 18, 19, 20, 21, 13, 14, 15, 16, 17, 18, 19, 20, 21, 22, 14, 15, 16, 17, 18, 19, 20, 21, 22, 23, 15, 16, 17, 18, 19, 20, 21, 22, 23, 24, 16, 17, 18, 19, 20, 21, 22, 23, 24, 25, 17, 18, 19, 20, 21, 22, 23, 24, 25, 26, 18, 19, 20, 21, 22, 23, 24, 25, 26, 27, 1]\n"
     ]
    }
   ],
   "source": [
    "# list comprehension to process numbers from 1 to the specified limit\n",
    "digits_sum=[sum(int(digit) for digit in str(number)) if number>=10 else number for number in range(1,1000+1)]\n",
    "\n",
    "# Print the list containing the sum of digits for each number\n",
    "print(digits_sum)\n"
   ]
  },
  {
   "cell_type": "markdown",
   "id": "98a49731-93bd-4c5f-8382-ad493801f09a",
   "metadata": {},
   "source": [
    "40. Write a program that generates a list of prime palindromic numbers using list comprehension.\n"
   ]
  },
  {
   "cell_type": "code",
   "execution_count": 24,
   "id": "9451ce20-ba91-4655-b357-387e5840040b",
   "metadata": {},
   "outputs": [
    {
     "name": "stdin",
     "output_type": "stream",
     "text": [
      "Enter the limit to find prime numbers: 500\n"
     ]
    },
    {
     "name": "stdout",
     "output_type": "stream",
     "text": [
      "Prime Palindromic Numbers: [2, 3, 5, 7, 11, 101, 131, 151, 181, 191, 313, 353, 373, 383]\n"
     ]
    }
   ],
   "source": [
    "# Generate a list of prime numbers up to the given limit\n",
    "limit=int(input(\"Enter the limit to find prime numbers:\"))\n",
    "prime_no=[num for num in range(2,limit+1) if all(num%divisor!=0 for divisor in range(2,int(num**0.5)+1))]\n",
    "\n",
    "# Generate a list of prime palindromic numbers\n",
    "pali_prime=[pali for pali in prime_no if str(pali)==str(pali)[::-1] ]\n",
    "\n",
    "# Filter out single-digit prime numbers\n",
    "filter_prime=[p for p in pali_prime if p>9]\n",
    "\n",
    "# Print the list of prime palindromic numbers\n",
    "print(\"Prime Palindromic Numbers:\", pali_prime)\n"
   ]
  },
  {
   "cell_type": "code",
   "execution_count": null,
   "id": "9305d8f5-5f6a-421d-8fd7-9a42cdcad782",
   "metadata": {},
   "outputs": [],
   "source": []
  }
 ],
 "metadata": {
  "kernelspec": {
   "display_name": "Python 3 (ipykernel)",
   "language": "python",
   "name": "python3"
  },
  "language_info": {
   "codemirror_mode": {
    "name": "ipython",
    "version": 3
   },
   "file_extension": ".py",
   "mimetype": "text/x-python",
   "name": "python",
   "nbconvert_exporter": "python",
   "pygments_lexer": "ipython3",
   "version": "3.10.8"
  }
 },
 "nbformat": 4,
 "nbformat_minor": 5
}
